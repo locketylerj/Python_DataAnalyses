{
 "cells": [
  {
   "cell_type": "code",
   "execution_count": 1,
   "metadata": {},
   "outputs": [],
   "source": [
    "import os\n",
    "import csv"
   ]
  },
  {
   "cell_type": "code",
   "execution_count": 2,
   "metadata": {},
   "outputs": [],
   "source": [
    "csvpath = os.path.join(\"..\", \"Resources\", \"budget_data.csv\")"
   ]
  },
  {
   "cell_type": "code",
   "execution_count": 44,
   "metadata": {},
   "outputs": [],
   "source": [
    "csvoutput = os.path.join(\"..\", \"Resources\", \"newbudget_data.csv\")"
   ]
  },
  {
   "cell_type": "code",
   "execution_count": 45,
   "metadata": {},
   "outputs": [],
   "source": [
    "FinancialAnalysisout = os.path.join(\"..\", \"Resources\", \"financialanalysis.txt\")"
   ]
  },
  {
   "cell_type": "code",
   "execution_count": 43,
   "metadata": {},
   "outputs": [
    {
     "name": "stdout",
     "output_type": "stream",
     "text": [
      "Financial Analysis \n",
      "Total Months: 86\n",
      "Total Revenue is: $38382578\n",
      "Net monthly average change is: $-2315.12\n",
      "The greatest increase in profits: Feb-2012 ($1926159)\n",
      "The greatest decrease in profits: Sep-2013 ($-2196167)\n"
     ]
    }
   ],
   "source": [
    "#find total number of months included in the dataset\n",
    "totalmonths = 0\n",
    "totalrevenue = 0\n",
    "netchange_list=[]\n",
    "greatest_decrease = [\"\",99999999]\n",
    "greatest_increase = [\"\", 0]\n",
    "\n",
    "with open(csvpath) as csvbudget:\n",
    "    \n",
    "    csvreader = csv.reader(csvbudget)\n",
    "    #This next gets us to the header. \n",
    "    csvheader = next(csvreader)\n",
    "    #prints the entire row with the header of columns. \n",
    "    #print(csvheader)\n",
    "    #This next gets us to the first row with values\n",
    "    for row in csvreader:\n",
    "        #print(prevnet)\n",
    "        totalmonths = totalmonths + 1\n",
    "        #Calculate the total net amount of \"Profit/Losses\" over the entire period\n",
    "        totalrevenue = totalrevenue + int(row[1])\n",
    "    #print(totalrevenue)\n",
    "    #print(totalmonths)    \n",
    "with open(csvpath) as csvbudget:\n",
    "    \n",
    "    csvreader = csv.reader(csvbudget)\n",
    "    #This next gets us to the header. \n",
    "    csvheader = next(csvreader)  \n",
    "    firstrow = next(csvreader)\n",
    "    #prints the entire row with the first values\n",
    "    #print(firstrow)\n",
    "    prevnet = int(firstrow[1])\n",
    "    #print(prevnet)\n",
    "    \n",
    "    for row in csvreader:\n",
    "        netchange = int(row[1])-prevnet\n",
    "        prevnet = int(row[1])\n",
    "        #Lists are mutable so you dont need to redifine lists when you are appending. \n",
    "        netchange_list.append(netchange)\n",
    "        #Find the greatest increase by comparing each netchange with zero first and then each net change that \n",
    "        #is bigger than what is stored in the greatest increase list. \n",
    "        if netchange > greatest_increase[1]:\n",
    "            #Store the month of the increase that is greater than the net change.\n",
    "            greatest_increase[0] = row[0]\n",
    "            #Store the value of the increase that is greater than the net change. \n",
    "            greatest_increase[1] = netchange     \n",
    "        if netchange < greatest_decrease[1] :\n",
    "            greatest_decrease[0]= row[0]\n",
    "            greatest_decrease[1]=netchange\n",
    "        \n",
    "netmonthlyaverage = round(sum(netchange_list)/len(netchange_list),2)     \n",
    " # The 'f' at the beginning makes sure that you call the contents in the curly braces as a variable so it eliminates\n",
    "    #the concatenations + signs. \n",
    "output = (f\"Financial Analysis \\nTotal Months: {totalmonths}\") \n",
    "\n",
    "print(output)\n",
    "print(f\"Total Revenue is: ${totalrevenue}\\n\"\n",
    "      f\"Net monthly average change is: ${netmonthlyaverage}\")    \n",
    "print(f\"The greatest increase in profits: {greatest_increase[0]} (${greatest_increase[1]})\\n\"\n",
    "     f\"The greatest decrease in profits: {greatest_decrease[0]} (${greatest_decrease[1]})\")\n",
    "\n",
    "   "
   ]
  },
  {
   "cell_type": "code",
   "execution_count": 57,
   "metadata": {},
   "outputs": [],
   "source": [
    "with open(FinancialAnalysisout, \"w\") as text:\n",
    "    \n",
    "    text.write(\"Financial Analysis.\\nTotal Months: 86. \\nTotal Revenue is: $38382578. \\nNet monthly average change is: $-2315.12. \\nThe greatest increase in profits: Feb-2012 ($1926159). \\nThe greatest decrease in profits: Sep-2013 ($-2196167)\")\n"
   ]
  },
  {
   "cell_type": "code",
   "execution_count": null,
   "metadata": {},
   "outputs": [],
   "source": []
  },
  {
   "cell_type": "code",
   "execution_count": null,
   "metadata": {},
   "outputs": [],
   "source": []
  }
 ],
 "metadata": {
  "kernelspec": {
   "display_name": "Python 3",
   "language": "python",
   "name": "python3"
  },
  "language_info": {
   "codemirror_mode": {
    "name": "ipython",
    "version": 3
   },
   "file_extension": ".py",
   "mimetype": "text/x-python",
   "name": "python",
   "nbconvert_exporter": "python",
   "pygments_lexer": "ipython3",
   "version": "3.6.5"
  }
 },
 "nbformat": 4,
 "nbformat_minor": 2
}
