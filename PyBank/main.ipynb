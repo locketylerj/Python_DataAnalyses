{
 "cells": [
  {
   "cell_type": "code",
   "execution_count": 2,
   "metadata": {},
   "outputs": [],
   "source": [
    "import os\n",
    "import csv"
   ]
  },
  {
   "cell_type": "code",
   "execution_count": 3,
   "metadata": {},
   "outputs": [],
   "source": [
    "csvpath = os.path.join(\"..\", \"Resources\", \"budget_data.csv\")"
   ]
  },
  {
   "cell_type": "code",
   "execution_count": 4,
   "metadata": {},
   "outputs": [],
   "source": [
    "csvoutput = os.path.join(\"..\", \"Resources\", \"newbudget_data.csv\")"
   ]
  },
  {
   "cell_type": "code",
   "execution_count": 11,
   "metadata": {},
   "outputs": [
    {
     "name": "stdout",
     "output_type": "stream",
     "text": [
      "Financial Analysis \n",
      "Total Months: 41\n"
     ]
    }
   ],
   "source": [
    "#find total number of months included in the dataset\n",
    "totalmonths = 0\n",
    "\n",
    "\n",
    "with open(csvpath) as csvbudget:\n",
    "    \n",
    "    csvreader = csv.reader(csvbudget)\n",
    "    \n",
    "    csv_header = next(csvreader)\n",
    "    \n",
    "    for row in csvreader:\n",
    "            \n",
    "            totalmonths = totalmonths + 1\n",
    "            \n",
    "     # The 'f' at the beginning makes sure that you call the contents in the curly braces as a variable so it eliminates\n",
    "    #the concatenations + signs. \n",
    "    output = (\n",
    "    f\"Financial Analysis \"\n",
    "    f\"\\nTotal Months: {totalmonths}\"\n",
    "    ) \n",
    "\n",
    "    print(output)\n",
    "    #Calculate the total net amount of \"Profit/Losses\" over the entire period\n",
    "    \n",
    "   "
   ]
  },
  {
   "cell_type": "code",
   "execution_count": 15,
   "metadata": {},
   "outputs": [
    {
     "name": "stdout",
     "output_type": "stream",
     "text": [
      "TotalRevenue is $18971412\n"
     ]
    }
   ],
   "source": [
    "with open(csvpath) as csvbudget:\n",
    "    \n",
    "    csvreader = csv.reader(csvbudget)\n",
    "    \n",
    "    csv_header = next(csvreader)\n",
    "    \n",
    "    totalrevenue = 0\n",
    "    for row in csvreader:       \n",
    "        totalrevenue = totalrevenue + int(row[1])  \n",
    "        #Why doesnt this work?: netprofit = row[1].sum()\n",
    "         \n",
    "    print(f\"TotalRevenue is ${totalrevenue}\")"
   ]
  },
  {
   "cell_type": "code",
   "execution_count": 25,
   "metadata": {},
   "outputs": [
    {
     "name": "stdout",
     "output_type": "stream",
     "text": [
      "883934.0\n"
     ]
    }
   ],
   "source": [
    "with open(csvpath) as csvbudget:\n",
    "    \n",
    "    csvreader = csv.reader(csvbudget)\n",
    "    \n",
    "    csv_header = next(csvreader)\n",
    "    for row in csvreader:\n",
    "        change = 0\n",
    "        averagechange = (change + int(row[1]))/(change + 1)\n",
    "        #averagechange = int(row[1]) - next(int(row[1]))\n",
    "        \n",
    "    print (averagechange)"
   ]
  },
  {
   "cell_type": "code",
   "execution_count": null,
   "metadata": {},
   "outputs": [],
   "source": []
  },
  {
   "cell_type": "code",
   "execution_count": null,
   "metadata": {},
   "outputs": [],
   "source": []
  }
 ],
 "metadata": {
  "kernelspec": {
   "display_name": "Python 3",
   "language": "python",
   "name": "python3"
  },
  "language_info": {
   "codemirror_mode": {
    "name": "ipython",
    "version": 3
   },
   "file_extension": ".py",
   "mimetype": "text/x-python",
   "name": "python",
   "nbconvert_exporter": "python",
   "pygments_lexer": "ipython3",
   "version": "3.6.5"
  }
 },
 "nbformat": 4,
 "nbformat_minor": 2
}
