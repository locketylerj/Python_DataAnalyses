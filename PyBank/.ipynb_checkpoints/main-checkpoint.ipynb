{
 "cells": [
  {
   "cell_type": "code",
   "execution_count": 1,
   "metadata": {},
   "outputs": [],
   "source": [
    "import os\n",
    "import csv"
   ]
  },
  {
   "cell_type": "code",
   "execution_count": 2,
   "metadata": {},
   "outputs": [],
   "source": [
    "csvpath = os.path.join(\"..\", \"Resources\", \"budget_data.csv\")"
   ]
  },
  {
   "cell_type": "code",
   "execution_count": 3,
   "metadata": {},
   "outputs": [],
   "source": [
    "csvoutput = os.path.join(\"..\", \"Resources\", \"newbudget_data.csv\")"
   ]
  },
  {
   "cell_type": "code",
   "execution_count": 9,
   "metadata": {},
   "outputs": [
    {
     "name": "stdout",
     "output_type": "stream",
     "text": [
      "\n",
      " Financial Analysis Total Months:41\n",
      "TotalRevenue is 0\n"
     ]
    }
   ],
   "source": [
    "totalmonths = 0\n",
    "\n",
    "\n",
    "with open(csvpath) as csvbudget:\n",
    "    \n",
    "    csvreader = csv.reader(csvbudget)\n",
    "    \n",
    "    csv_header = next(csvreader)\n",
    "    \n",
    "    for row in csvreader:\n",
    "            \n",
    "            totalmonths = totalmonths + 1\n",
    "            #find total number of months included in the dataset\n",
    "            \n",
    "            total\n",
    "     # The 'f' at the beginning makes sure that you call the contents in the curly braces as a variable so it eliminates\n",
    "    #the concatenations + signs. \n",
    "    output = (\n",
    "    f\"\\n Financial Analysis \"\n",
    "    f\"Total Months:{totalmonths}\"\n",
    "    ) \n",
    "\n",
    "    print(output)\n",
    "    #Calculate the total net amount of \"Profit/Losses\" over the entire period\n",
    "    \n",
    "    totalrevenue = 0\n",
    "    for row in csvreader:       \n",
    "        totalrevenue = totalrevenue + row[1]  \n",
    "        \n",
    "    print(f\"TotalRevenue is {totalrevenue}\")"
   ]
  },
  {
   "cell_type": "code",
   "execution_count": null,
   "metadata": {},
   "outputs": [],
   "source": []
  }
 ],
 "metadata": {
  "kernelspec": {
   "display_name": "Python 3",
   "language": "python",
   "name": "python3"
  },
  "language_info": {
   "codemirror_mode": {
    "name": "ipython",
    "version": 3
   },
   "file_extension": ".py",
   "mimetype": "text/x-python",
   "name": "python",
   "nbconvert_exporter": "python",
   "pygments_lexer": "ipython3",
   "version": "3.6.5"
  }
 },
 "nbformat": 4,
 "nbformat_minor": 2
}
