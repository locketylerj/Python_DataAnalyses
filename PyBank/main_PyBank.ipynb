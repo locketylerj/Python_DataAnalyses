{
 "cells": [
  {
   "cell_type": "code",
   "execution_count": 2,
   "metadata": {},
   "outputs": [],
   "source": [
    "import os\n",
    "import csv"
   ]
  },
  {
   "cell_type": "code",
   "execution_count": 3,
   "metadata": {},
   "outputs": [],
   "source": [
    "csvpath = os.path.join(\"..\", \"Resources\", \"budget_data.csv\")"
   ]
  },
  {
   "cell_type": "code",
   "execution_count": 4,
   "metadata": {},
   "outputs": [],
   "source": [
    "csvoutput = os.path.join(\"..\", \"Resources\", \"newbudget_data.csv\")"
   ]
  },
  {
   "cell_type": "code",
   "execution_count": 5,
   "metadata": {},
   "outputs": [],
   "source": [
    "FinancialAnalysisout = os.path.join(\"..\", \"Resources\", \"financialanalysis.txt\")"
   ]
  },
  {
   "cell_type": "code",
   "execution_count": 6,
   "metadata": {},
   "outputs": [
    {
     "name": "stdout",
     "output_type": "stream",
     "text": [
      "Financial Analysis \n",
      "Total Months: 86 \n",
      "Total Revenue is: $38382578\n",
      "Net monthly average change is: $-2315.12 \n",
      "The greatest increase in profits: 12-Feb ($1926159)\n",
      "The greatest decrease in profits: 13-Sep ($-2196167\n"
     ]
    }
   ],
   "source": [
    "#find total number of months included in the dataset\n",
    "totalmonths = 0\n",
    "totalrevenue = 0\n",
    "#The net change list is going to be added to when we loop through the rows and add each new difference(delta) bewteen the cell\n",
    "#value below and the value above. \n",
    "netchange_list=[]\n",
    "#This list holds two values: one for the date column (\"\") and one for the values column. The values column value(999999)\n",
    "#is an arbitrarily large number that the netchange is first compared with in the loop to see if the netchange is less than this\n",
    "#number. If it is less than it, then that value is added to this list in the place of 999999. If the next netchange below \n",
    "#that is less than that net change then that value is put in the place of the last net change and on and on through the loop below. \n",
    "#See the csv file \"budget_data\" for a breakdown of the loop. \n",
    "greatest_decrease = [\"\",99999999]\n",
    "#The same for greatest increase but flipped so that we first compare the net change with zero and then each net change after that\n",
    "greatest_increase = [\"\", 0]\n",
    "\n",
    "with open(csvpath) as csvbudget:\n",
    "    \n",
    "    csvreader = csv.reader(csvbudget)\n",
    "    #This next gets us to the header. \n",
    "    csvheader = next(csvreader)\n",
    "    #below #prints the entire row with the columns headers. \n",
    "    #print(csvheader)\n",
    "   \n",
    "    for row in csvreader:\n",
    "        #Calculates the total months which is essentially the total number of rows with data (each row is a different month)\n",
    "        #So each time we go through a row, we add one to the totalmonths variable. \n",
    "        totalmonths = totalmonths + 1\n",
    "        #Calculate the total net amount of \"Profit/Losses\" over the entire period. Similar to the above. Except \n",
    "        #each value in row index 1 is added to the each other for every row.\n",
    "        totalrevenue = totalrevenue + int(row[1])\n",
    "    #print(totalrevenue)\n",
    "    #print(totalmonths)    \n",
    "with open(csvpath) as csvbudget:\n",
    "    \n",
    "    csvreader = csv.reader(csvbudget)\n",
    "    #This next gets us up to the header.\n",
    "    csvheader = next(csvreader)  \n",
    "     #This next gets us to the first row with values\n",
    "    firstrow = next(csvreader)\n",
    "    #prints the entire row with the first values\n",
    "    #print(firstrow)\n",
    "    prevnet = int(firstrow[1])\n",
    "    #Below print function, prints out the very first value from the csv file. \n",
    "    #print(prevnet)\n",
    "    for row in csvreader:\n",
    "        #For each row subtract the row after(prevnet)from the row before\n",
    "        netchange = int(row[1])-prevnet\n",
    "        #Reset prevnet to the next value down. \n",
    "        prevnet = int(row[1])\n",
    "        #Lists are mutable so you dont need to redefine lists when you are appending. \n",
    "        #add the netchange from the above equation to the list. \n",
    "        netchange_list.append(netchange)\n",
    "        #Find the greatest increase by comparing each netchange with zero first and then each net change that \n",
    "        #is bigger than what is stored in the greatest increase list. \n",
    "        if netchange > greatest_increase[1]:\n",
    "            #Store the month of the increase that is greater than the net change.\n",
    "            greatest_increase[0] = row[0]\n",
    "            #Store the value of the increase that is greater than the net change. \n",
    "            greatest_increase[1] = netchange     \n",
    "        if netchange < greatest_decrease[1] :\n",
    "            greatest_decrease[0] = row[0]\n",
    "            greatest_decrease[1] = netchange\n",
    "#calculate the average monthly change by dividing the length of the list by the sum of the list values         \n",
    "netmonthlyaverage = round(sum(netchange_list)/len(netchange_list),2)     \n",
    "# The 'f' at the beginning makes sure that you call the contents in the curly braces as a variable so it eliminates\n",
    "#the concatenations + signs. \n",
    "output = (f\"Financial Analysis \\nTotal Months: {totalmonths} \\n\"\n",
    "         f\"Total Revenue is: ${totalrevenue}\\n\"\n",
    "         f\"Net monthly average change is: ${netmonthlyaverage} \\n\"\n",
    "         f\"The greatest increase in profits: {greatest_increase[0]} (${greatest_increase[1]})\\n\"\n",
    "         f\"The greatest decrease in profits: {greatest_decrease[0]} (${greatest_decrease[1]}\")\n",
    "\n",
    "print(output)\n",
    "#print(f\"Total Revenue is: ${totalrevenue}\\n\"\n",
    "      #f\"Net monthly average change is: ${netmonthlyaverage}\")    \n",
    "#print(f\"The greatest increase in profits: {greatest_increase[0]} (${greatest_increase[1]})\\n\"\n",
    "     #f\"The greatest decrease in profits: {greatest_decrease[0]} (${greatest_decrease[1]})\")\n",
    "\n",
    "   "
   ]
  },
  {
   "cell_type": "code",
   "execution_count": 7,
   "metadata": {},
   "outputs": [],
   "source": [
    "#Print the financial analysis data to the text file specified at the beginning. \n",
    "with open(FinancialAnalysisout, \"w\") as text:\n",
    "    \n",
    "    text.write(output)\n",
    "    "
   ]
  },
  {
   "cell_type": "code",
   "execution_count": null,
   "metadata": {},
   "outputs": [],
   "source": []
  },
  {
   "cell_type": "code",
   "execution_count": null,
   "metadata": {},
   "outputs": [],
   "source": []
  }
 ],
 "metadata": {
  "kernelspec": {
   "display_name": "Python 3",
   "language": "python",
   "name": "python3"
  },
  "language_info": {
   "codemirror_mode": {
    "name": "ipython",
    "version": 3
   },
   "file_extension": ".py",
   "mimetype": "text/x-python",
   "name": "python",
   "nbconvert_exporter": "python",
   "pygments_lexer": "ipython3",
   "version": "3.6.5"
  }
 },
 "nbformat": 4,
 "nbformat_minor": 2
}
