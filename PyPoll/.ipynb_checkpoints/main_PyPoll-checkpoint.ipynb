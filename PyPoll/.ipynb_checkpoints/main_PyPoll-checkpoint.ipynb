{
 "cells": [
  {
   "cell_type": "code",
   "execution_count": 133,
   "metadata": {},
   "outputs": [],
   "source": [
    "import os\n",
    "import csv\n",
    "csvpath = os.path.join(\"..\",\"Resources\", \"election_data.csv\")\n",
    "outputpath = os.path.join(\"..\", \"Resources\", \"electionsmry.txt\")\n",
    "totalvotes = 0\n",
    "candidatelist = []\n",
    "khantotal = 0\n",
    "correytotal = 0\n",
    "litotal = 0\n",
    "otooleytotal = 0\n",
    "winner=[\"\", 0]\n",
    "percentagelist=[]"
   ]
  },
  {
   "cell_type": "code",
   "execution_count": 134,
   "metadata": {},
   "outputs": [
    {
     "name": "stdout",
     "output_type": "stream",
     "text": [
      "['Khan', 'Correy', 'Li', \"O'Tooley\"]\n",
      "3521001\n"
     ]
    }
   ],
   "source": [
    "with open(csvpath) as electioncsv:\n",
    "    csvreader = csv.reader(electioncsv)\n",
    "    csvheader = next(csvreader)\n",
    "    for row in csvreader:\n",
    "        #calculates the total number of votes cast by basically counting all the individual rows.\n",
    "        totalvotes = totalvotes + 1\n",
    "        #provides the complete list of candidates who received votes. \n",
    "        if row[2] not in candidatelist:\n",
    "            candidatelist.append(row[2])\n",
    "    print(f\"{candidatelist}\")\n",
    "    print(f\"{totalvotes}\")\n",
    "\n",
    "    "
   ]
  },
  {
   "cell_type": "code",
   "execution_count": 135,
   "metadata": {},
   "outputs": [
    {
     "name": "stdout",
     "output_type": "stream",
     "text": [
      "[63.0, 20.0, 14.0, 3.0]\n",
      "Election Results \n",
      "Total Votes: 3521001 \n",
      "Khan: 63.0% (2218231) \n",
      "Correy: 20.0% (704200)\n",
      "Li: 14.0% (492940)\n",
      "O'Tooley: 3.0% (105630)\n",
      "Winner: Khan: 63.0%\n"
     ]
    }
   ],
   "source": [
    "with open(csvpath) as electioncsv:\n",
    "    csvreader = csv.reader(electioncsv)\n",
    "    csvheader = next(csvreader)\n",
    "    \n",
    "    for row in csvreader:\n",
    "        if (row[2]==\"Khan\"):\n",
    "            khantotal = khantotal + 1\n",
    "        elif (row[2]==\"Correy\"):\n",
    "            correytotal = correytotal +1\n",
    "            \n",
    "        elif (row[2]==\"Li\"):\n",
    "              litotal = litotal +1\n",
    "        elif (row[2]==\"O'Tooley\"):\n",
    "            otooleytotal = otooleytotal + 1\n",
    "\n",
    "    khanpercentage = round((khantotal/totalvotes)*100,3)\n",
    "    correypercentage =round((correytotal/totalvotes)*100,3)\n",
    "    lipercentage = round((litotal/totalvotes)*100,3)\n",
    "    otooleypercentage = round((otooleytotal/totalvotes)*100,3)\n",
    "    percentagelist.append(khanpercentage)\n",
    "    percentagelist.append(correypercentage)\n",
    "    percentagelist.append(lipercentage)\n",
    "    percentagelist.append(otooleypercentage)\n",
    "    \n",
    "    for percent in percentagelist:\n",
    "        imax = percentagelist.index(max(percentagelist))\n",
    "        if percent > winner[1]:\n",
    "            winner[1] = percent\n",
    "            winner[0] = candidatelist[imax]\n",
    "    output=(f\"Election Results \\n\"\n",
    "            f\"Total Votes: {totalvotes} \\n\"\n",
    "            f\"Khan: {khanpercentage}% ({khantotal}) \\n\"\n",
    "            f\"Correy: {correypercentage}% ({correytotal})\\n\"\n",
    "            f\"Li: {lipercentage}% ({litotal})\\n\"\n",
    "            f\"O'Tooley: {otooleypercentage}% ({otooleytotal})\\n\"\n",
    "            f\"Winner: {winner[0]}: {winner[1]}%\")\n",
    "    \n",
    "    print(output)\n"
   ]
  },
  {
   "cell_type": "code",
   "execution_count": 136,
   "metadata": {},
   "outputs": [],
   "source": [
    "with open(outputpath, \"w\") as text:\n",
    "    text.write(output)"
   ]
  },
  {
   "cell_type": "code",
   "execution_count": null,
   "metadata": {},
   "outputs": [],
   "source": []
  }
 ],
 "metadata": {
  "kernelspec": {
   "display_name": "Python 3",
   "language": "python",
   "name": "python3"
  },
  "language_info": {
   "codemirror_mode": {
    "name": "ipython",
    "version": 3
   },
   "file_extension": ".py",
   "mimetype": "text/x-python",
   "name": "python",
   "nbconvert_exporter": "python",
   "pygments_lexer": "ipython3",
   "version": "3.6.5"
  }
 },
 "nbformat": 4,
 "nbformat_minor": 2
}
