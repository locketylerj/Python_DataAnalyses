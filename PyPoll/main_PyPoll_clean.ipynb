{
 "cells": [
  {
   "cell_type": "code",
   "execution_count": 10,
   "metadata": {},
   "outputs": [],
   "source": [
    "import os\n",
    "import csv\n",
    "csvpath = os.path.join(\"..\",\"Resources\", \"election_data.csv\")\n",
    "outputpath = os.path.join(\"..\", \"Resources\", \"electionsmry.txt\")\n",
    "totalvotes = 0\n",
    "candidatelist = []\n",
    "candidatedict={}\n",
    "winner=[\"\", 0]\n"
   ]
  },
  {
   "cell_type": "code",
   "execution_count": 11,
   "metadata": {},
   "outputs": [
    {
     "name": "stdout",
     "output_type": "stream",
     "text": [
      "{'Khan': 2218231, 'Correy': 704200, 'Li': 492940, \"O'Tooley\": 105630}\n",
      "3521001\n"
     ]
    }
   ],
   "source": [
    "with open(csvpath) as electioncsv:\n",
    "    csvreader = csv.reader(electioncsv)\n",
    "    csvheader = next(csvreader)\n",
    "    for row in csvreader:\n",
    "        #calculates the total number of votes cast by basically counting all the individual rows.\n",
    "        totalvotes = totalvotes + 1\n",
    "        #provides the complete list of candidates who received votes. \n",
    "        candidate_name = row[2]\n",
    "        if candidate_name not in candidatedict:\n",
    "            candidatedict[candidate_name] = 0\n",
    "            candidatelist.append(candidate_name)\n",
    "            \n",
    "        candidatedict[candidate_name]+=1\n",
    "    print(f\"{candidatedict}\")\n",
    "    print(f\"{totalvotes}\")\n",
    "\n",
    "    "
   ]
  },
  {
   "cell_type": "code",
   "execution_count": 22,
   "metadata": {},
   "outputs": [
    {
     "name": "stdout",
     "output_type": "stream",
     "text": [
      "Election Results \n",
      "Total Votes: 3521001 \n",
      "\n",
      "Khan: 63.000% (2218231)\n",
      "Correy: 20.000% (704200)\n",
      "Li: 14.000% (492940)\n",
      "O'Tooley: 3.000% (105630)\n",
      "Winner:Khan\n"
     ]
    }
   ],
   "source": [
    "with open(outputpath, \"w\") as text:\n",
    "    output1 = (f\"Election Results \\n\"\n",
    "               f\"Total Votes: {totalvotes} \\n\")\n",
    "    print(output1)\n",
    "    text.write(output1)\n",
    "    \n",
    "    for candidate in candidatedict:\n",
    "        candidate_votes = candidatedict.get(candidate)\n",
    "        candidate_percent = float(candidate_votes/totalvotes*100)\n",
    "        output2 = (f\"{candidate}: {candidate_percent:.3f}% ({candidate_votes})\")\n",
    "        print(output2)\n",
    "        text.write(output2)\n",
    "        if candidate_votes > winner[1]:\n",
    "            winner[0] = candidate\n",
    "            winner[1] = candidate_votes\n",
    "            \n",
    "        \n",
    "    output3= (f\"Winner:{winner[0]}\")\n",
    "    print(output3)\n",
    "    \n",
    "    text.write(output3)\n",
    "    "
   ]
  },
  {
   "cell_type": "code",
   "execution_count": null,
   "metadata": {},
   "outputs": [],
   "source": []
  },
  {
   "cell_type": "code",
   "execution_count": null,
   "metadata": {},
   "outputs": [],
   "source": []
  }
 ],
 "metadata": {
  "kernelspec": {
   "display_name": "Python 3",
   "language": "python",
   "name": "python3"
  },
  "language_info": {
   "codemirror_mode": {
    "name": "ipython",
    "version": 3
   },
   "file_extension": ".py",
   "mimetype": "text/x-python",
   "name": "python",
   "nbconvert_exporter": "python",
   "pygments_lexer": "ipython3",
   "version": "3.6.5"
  }
 },
 "nbformat": 4,
 "nbformat_minor": 2
}
